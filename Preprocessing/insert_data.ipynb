{
 "cells": [
  {
   "cell_type": "markdown",
   "metadata": {},
   "source": [
    "# python manage.py shell 에서 실행"
   ]
  },
  {
   "cell_type": "code",
   "execution_count": null,
   "metadata": {
    "vscode": {
     "languageId": "plaintext"
    }
   },
   "outputs": [],
   "source": [
    "import csv\n",
    "from search.models import DentalClaim\n",
    "\n",
    "file_path = './치과.csv'\n",
    "\n",
    "with open(file_path, newline='', encoding='utf-8') as csvfile:\n",
    "    reader = csv.DictReader(csvfile)\n",
    "\n",
    "    for row in reader:\n",
    "        DentalClaim.objects.create(\n",
    "            incomplete_disease_code=row['불완전 상병 코드'],\n",
    "            incomplete_disease_name=row['불완전 상병명'],\n",
    "            claim_category=row['청구 카테고리'],\n",
    "            claim_detail=row['세부 청구 항목'],\n",
    "        )"
   ]
  }
 ],
 "metadata": {
  "language_info": {
   "name": "python"
  }
 },
 "nbformat": 4,
 "nbformat_minor": 2
}
