{
 "cells": [
  {
   "cell_type": "markdown",
   "metadata": {},
   "source": [
    "---\n"
   ]
  },
  {
   "cell_type": "markdown",
   "metadata": {},
   "source": [
    "# merge"
   ]
  },
  {
   "cell_type": "markdown",
   "metadata": {},
   "source": [
    "### 위의 시트에서 사본시트에서 코드를 확인하여 일치하는 보험 청구 항목을 새로운 열로 추가하는 코드입니다"
   ]
  },
  {
   "cell_type": "code",
   "execution_count": null,
   "metadata": {},
   "outputs": [],
   "source": [
    "import gspread\n",
    "import re\n",
    "import time\n",
    "from oauth2client.service_account import ServiceAccountCredentials\n",
    "\n",
    "scope = [\n",
    "    \"https://spreadsheets.google.com/feeds\",\n",
    "    \"https://www.googleapis.com/auth/drive\",\n",
    "]\n",
    "creds = ServiceAccountCredentials.from_json_keyfile_name(\"key.json\", scope)\n",
    "gc = gspread.authorize(creds)\n",
    "\n",
    "spreadsheet_url = \"https://docs.google.com/spreadsheets/d/1PzFuHuF2DvMPdSI-TK4Kq5LjPwyGzIxH3Q0Drnqft20/edit?usp=sharing\"\n",
    "\n",
    "doc = gc.open_by_url(spreadsheet_url)\n",
    "\n",
    "insurance_claim_sheet = doc.worksheet(\"행위별 Category\")\n",
    "disease_code_sheet = doc.worksheet(\"상병 Category의 사본\")\n",
    "\n",
    "insurance_claim_data = insurance_claim_sheet.get_all_values()\n",
    "disease_code_data = disease_code_sheet.get_all_values()\n",
    "\n",
    "# 추가된 열의 이름 저장\n",
    "disease_code_sheet.update(\"C1:D1\", [[\"청구 카테고리\", \"세부 청구 항목\"]])\n",
    "\n",
    "for disease_row_idx, disease_row in enumerate(disease_code_data[1:], start=2):\n",
    "    disease_code = disease_row[0]\n",
    "\n",
    "    if not disease_code.strip():\n",
    "        clean_category = \"\"\n",
    "        clean_item = \"\"\n",
    "    elif \"~\" in disease_code:\n",
    "        clean_category = \"\"\n",
    "        clean_item = \"\"\n",
    "    else:\n",
    "        category = \"일치하는 보험 상품이 없습니다\"\n",
    "        item = \"일치하는 보험 상품이 없습니다\"\n",
    "\n",
    "        for claim_row in insurance_claim_data[1:]:\n",
    "            claim_codes = claim_row[3].split(\",\")\n",
    "\n",
    "            if disease_code in [code.strip() for code in claim_codes]:\n",
    "                category = claim_row[0]\n",
    "                item = claim_row[1]\n",
    "                break\n",
    "\n",
    "        clean_category = re.sub(r\"[0-9.]\", \"\", category).strip()\n",
    "        clean_item = re.sub(r\"[0-9.]\", \"\", item).strip()\n",
    "\n",
    "    disease_code_sheet.update(\n",
    "        f\"C{disease_row_idx}:D{disease_row_idx}\", [[clean_category, clean_item]]\n",
    "    )\n",
    "    time.sleep(2)"
   ]
  },
  {
   "cell_type": "code",
   "execution_count": 1,
   "metadata": {},
   "outputs": [
    {
     "ename": "FileNotFoundError",
     "evalue": "[Errno 2] No such file or directory: 'key.json'",
     "output_type": "error",
     "traceback": [
      "\u001b[1;31m---------------------------------------------------------------------------\u001b[0m",
      "\u001b[1;31mFileNotFoundError\u001b[0m                         Traceback (most recent call last)",
      "Cell \u001b[1;32mIn[1], line 10\u001b[0m\n\u001b[0;32m      4\u001b[0m \u001b[38;5;28;01mfrom\u001b[39;00m \u001b[38;5;21;01moauth2client\u001b[39;00m\u001b[38;5;21;01m.\u001b[39;00m\u001b[38;5;21;01mservice_account\u001b[39;00m \u001b[38;5;28;01mimport\u001b[39;00m ServiceAccountCredentials\n\u001b[0;32m      6\u001b[0m scope \u001b[38;5;241m=\u001b[39m [\n\u001b[0;32m      7\u001b[0m     \u001b[38;5;124m\"\u001b[39m\u001b[38;5;124mhttps://spreadsheets.google.com/feeds\u001b[39m\u001b[38;5;124m\"\u001b[39m,\n\u001b[0;32m      8\u001b[0m     \u001b[38;5;124m\"\u001b[39m\u001b[38;5;124mhttps://www.googleapis.com/auth/drive\u001b[39m\u001b[38;5;124m\"\u001b[39m,\n\u001b[0;32m      9\u001b[0m ]\n\u001b[1;32m---> 10\u001b[0m creds \u001b[38;5;241m=\u001b[39m \u001b[43mServiceAccountCredentials\u001b[49m\u001b[38;5;241;43m.\u001b[39;49m\u001b[43mfrom_json_keyfile_name\u001b[49m\u001b[43m(\u001b[49m\u001b[38;5;124;43m\"\u001b[39;49m\u001b[38;5;124;43mkey.json\u001b[39;49m\u001b[38;5;124;43m\"\u001b[39;49m\u001b[43m,\u001b[49m\u001b[43m \u001b[49m\u001b[43mscope\u001b[49m\u001b[43m)\u001b[49m\n\u001b[0;32m     11\u001b[0m gc \u001b[38;5;241m=\u001b[39m gspread\u001b[38;5;241m.\u001b[39mauthorize(creds)\n\u001b[0;32m     13\u001b[0m spreadsheet_url \u001b[38;5;241m=\u001b[39m \u001b[38;5;124m\"\u001b[39m\u001b[38;5;124mhttps://docs.google.com/spreadsheets/d/1PzFuHuF2DvMPdSI-TK4Kq5LjPwyGzIxH3Q0Drnqft20/edit?usp=sharing\u001b[39m\u001b[38;5;124m\"\u001b[39m\n",
      "File \u001b[1;32mc:\\Users\\user\\Desktop\\Chunjae_edu\\.conda\\lib\\site-packages\\oauth2client\\service_account.py:219\u001b[0m, in \u001b[0;36mServiceAccountCredentials.from_json_keyfile_name\u001b[1;34m(cls, filename, scopes, token_uri, revoke_uri)\u001b[0m\n\u001b[0;32m    193\u001b[0m \u001b[38;5;129m@classmethod\u001b[39m\n\u001b[0;32m    194\u001b[0m \u001b[38;5;28;01mdef\u001b[39;00m \u001b[38;5;21mfrom_json_keyfile_name\u001b[39m(\u001b[38;5;28mcls\u001b[39m, filename, scopes\u001b[38;5;241m=\u001b[39m\u001b[38;5;124m'\u001b[39m\u001b[38;5;124m'\u001b[39m,\n\u001b[0;32m    195\u001b[0m                            token_uri\u001b[38;5;241m=\u001b[39m\u001b[38;5;28;01mNone\u001b[39;00m, revoke_uri\u001b[38;5;241m=\u001b[39m\u001b[38;5;28;01mNone\u001b[39;00m):\n\u001b[0;32m    197\u001b[0m \u001b[38;5;250m    \u001b[39m\u001b[38;5;124;03m\"\"\"Factory constructor from JSON keyfile by name.\u001b[39;00m\n\u001b[0;32m    198\u001b[0m \n\u001b[0;32m    199\u001b[0m \u001b[38;5;124;03m    Args:\u001b[39;00m\n\u001b[1;32m   (...)\u001b[0m\n\u001b[0;32m    217\u001b[0m \u001b[38;5;124;03m            the keyfile.\u001b[39;00m\n\u001b[0;32m    218\u001b[0m \u001b[38;5;124;03m    \"\"\"\u001b[39;00m\n\u001b[1;32m--> 219\u001b[0m     \u001b[38;5;28;01mwith\u001b[39;00m \u001b[38;5;28;43mopen\u001b[39;49m\u001b[43m(\u001b[49m\u001b[43mfilename\u001b[49m\u001b[43m,\u001b[49m\u001b[43m \u001b[49m\u001b[38;5;124;43m'\u001b[39;49m\u001b[38;5;124;43mr\u001b[39;49m\u001b[38;5;124;43m'\u001b[39;49m\u001b[43m)\u001b[49m \u001b[38;5;28;01mas\u001b[39;00m file_obj:\n\u001b[0;32m    220\u001b[0m         client_credentials \u001b[38;5;241m=\u001b[39m json\u001b[38;5;241m.\u001b[39mload(file_obj)\n\u001b[0;32m    221\u001b[0m     \u001b[38;5;28;01mreturn\u001b[39;00m \u001b[38;5;28mcls\u001b[39m\u001b[38;5;241m.\u001b[39m_from_parsed_json_keyfile(client_credentials, scopes,\n\u001b[0;32m    222\u001b[0m                                          token_uri\u001b[38;5;241m=\u001b[39mtoken_uri,\n\u001b[0;32m    223\u001b[0m                                          revoke_uri\u001b[38;5;241m=\u001b[39mrevoke_uri)\n",
      "\u001b[1;31mFileNotFoundError\u001b[0m: [Errno 2] No such file or directory: 'key.json'"
     ]
    }
   ],
   "source": [
    "import gspread\n",
    "import re\n",
    "import time\n",
    "from oauth2client.service_account import ServiceAccountCredentials\n",
    "\n",
    "scope = [\n",
    "    \"https://spreadsheets.google.com/feeds\",\n",
    "    \"https://www.googleapis.com/auth/drive\",\n",
    "]\n",
    "creds = ServiceAccountCredentials.from_json_keyfile_name(\"key.json\", scope)\n",
    "gc = gspread.authorize(creds)\n",
    "\n",
    "spreadsheet_url = \"https://docs.google.com/spreadsheets/d/1PzFuHuF2DvMPdSI-TK4Kq5LjPwyGzIxH3Q0Drnqft20/edit?usp=sharing\"\n",
    "\n",
    "doc = gc.open_by_url(spreadsheet_url)\n",
    "\n",
    "insurance_claim_sheet = doc.worksheet(\"행위별 Category\")\n",
    "disease_code_sheet = doc.worksheet(\"상병 Category의 사본\")\n",
    "\n",
    "insurance_claim_data = insurance_claim_sheet.get_all_values()\n",
    "disease_code_data = disease_code_sheet.get_all_values()\n",
    "\n",
    "# 추가된 열의 이름 저장\n",
    "disease_code_sheet.update(\"C1:D1\", [[\"청구 카테고리\", \"세부 청구 항목\"]])\n",
    "\n",
    "# 상병 코드를 키로 하여 중복된 코드를 저장할 수 있는 딕셔너리 생성\n",
    "disease_code_tracker = {}\n",
    "\n",
    "for disease_row_idx, disease_row in enumerate(disease_code_data[1:], start=2):\n",
    "    disease_code = disease_row[0]\n",
    "\n",
    "    # 상병 코드가 비어있거나 '~'를 포함하면 무시\n",
    "    if not disease_code.strip() or \"~\" in disease_code:\n",
    "        clean_category = \"\"\n",
    "        clean_item = \"\"\n",
    "    else:\n",
    "        # 기존 항목이 없을 경우 초기값 설정\n",
    "        category = \"일치하는 보험 상품이 없습니다\"\n",
    "        item = \"일치하는 보험 상품이 없습니다\"\n",
    "\n",
    "        for claim_row in insurance_claim_data[1:]:\n",
    "            claim_codes = claim_row[3].split(\",\")\n",
    "\n",
    "            if disease_code in [code.strip() for code in claim_codes]:\n",
    "                category = claim_row[0]\n",
    "                item = claim_row[1]\n",
    "\n",
    "                # 중복된 상병 코드를 찾을 때마다 새로운 행에 추가\n",
    "                clean_category = re.sub(r\"[0-9.]\", \"\", category).strip()\n",
    "                clean_item = re.sub(r\"[0-9.]\", \"\", item).strip()\n",
    "\n",
    "                # 상병 코드가 중복되는 경우, 기존 데이터에 행을 추가\n",
    "                if disease_code in disease_code_tracker:\n",
    "                    next_row = len(disease_code_data) + 1\n",
    "                    disease_code_sheet.append_row(\n",
    "                        [disease_code, \"\", clean_category, clean_item]\n",
    "                    )\n",
    "                else:\n",
    "                    disease_code_tracker[disease_code] = (\n",
    "                        True  # 이미 처리된 상병 코드로 기록\n",
    "                    )\n",
    "                    disease_code_sheet.update(\n",
    "                        f\"C{disease_row_idx}:D{disease_row_idx}\",\n",
    "                        [[clean_category, clean_item]],\n",
    "                    )\n",
    "                time.sleep(2)"
   ]
  }
 ],
 "metadata": {
  "kernelspec": {
   "display_name": "Python 3",
   "language": "python",
   "name": "python3"
  },
  "language_info": {
   "codemirror_mode": {
    "name": "ipython",
    "version": 3
   },
   "file_extension": ".py",
   "mimetype": "text/x-python",
   "name": "python",
   "nbconvert_exporter": "python",
   "pygments_lexer": "ipython3",
   "version": "3.9.20"
  }
 },
 "nbformat": 4,
 "nbformat_minor": 2
}
