{
 "cells": [
  {
   "cell_type": "code",
   "execution_count": 1,
   "metadata": {},
   "outputs": [],
   "source": [
    "import gspread\n",
    "from oauth2client.service_account import ServiceAccountCredentials\n",
    "import pandas as pd\n",
    "from langchain.embeddings import HuggingFaceEmbeddings\n",
    "from langchain.text_splitter import CharacterTextSplitter\n",
    "from langchain.vectorstores import FAISS\n",
    "from langchain.schema import Document  # 수정된 부분"
   ]
  },
  {
   "cell_type": "code",
   "execution_count": 3,
   "metadata": {},
   "outputs": [],
   "source": [
    "# Google 스프레드시트 API 인증 범위 설정\n",
    "scope = ['https://spreadsheets.google.com/feeds']\n",
    "\n",
    "# 서비스 계정 JSON 키 파일 경로 설정\n",
    "json_key_path = \"key.json\"\t\n",
    "\n",
    "# 인증 정보 로드\n",
    "credential = ServiceAccountCredentials.from_json_keyfile_name(json_key_path, scope)\n",
    "gc = gspread.authorize(credential)\n",
    "\n",
    "# 스프레드시트 URL 설정\n",
    "spreadsheet_url = \"https://docs.google.com/spreadsheets/d/1PzFuHuF2DvMPdSI-TK4Kq5LjPwyGzIxH3Q0Drnqft20/edit?usp=sharing\"\n",
    "\n",
    "# URL을 통해 스프레드시트 열기\n",
    "doc = gc.open_by_url(spreadsheet_url)\n",
    "\n",
    "# 시트 선택하기\n",
    "sheet_action = doc.worksheet(\"행위별 Category\")\n",
    "sheet_code = doc.worksheet(\"상병 Category\")\n",
    "\n",
    "# 데이터 프레임으로 변환하기\n",
    "df_action = pd.DataFrame(sheet_action.get_all_values())\n",
    "df_code = pd.DataFrame(sheet_code.get_all_values())\n",
    "\n",
    "# 첫 번째 행을 컬럼명으로 설정하고 나머지 데이터로 변환\n",
    "df_action.rename(columns=df_action.iloc[0], inplace=True)\n",
    "df_action.drop(df_action.index[0], inplace=True)\n",
    "\n",
    "# 첫 번째 행을 컬럼명으로 설정하고 나머지 데이터로 변환\n",
    "df_code.rename(columns=df_code.iloc[0], inplace=True)\n",
    "df_code.drop(df_code.index[0], inplace=True)\n",
    "\n"
   ]
  },
  {
   "cell_type": "code",
   "execution_count": 4,
   "metadata": {},
   "outputs": [
    {
     "data": {
      "text/html": [
       "<div>\n",
       "<style scoped>\n",
       "    .dataframe tbody tr th:only-of-type {\n",
       "        vertical-align: middle;\n",
       "    }\n",
       "\n",
       "    .dataframe tbody tr th {\n",
       "        vertical-align: top;\n",
       "    }\n",
       "\n",
       "    .dataframe thead th {\n",
       "        text-align: right;\n",
       "    }\n",
       "</style>\n",
       "<table border=\"1\" class=\"dataframe\">\n",
       "  <thead>\n",
       "    <tr style=\"text-align: right;\">\n",
       "      <th></th>\n",
       "      <th>보험 청구 Category</th>\n",
       "      <th>세부 청구 항목 (키워드)</th>\n",
       "      <th>\bURL  (tripletclover.com)</th>\n",
       "    </tr>\n",
       "  </thead>\n",
       "  <tbody>\n",
       "    <tr>\n",
       "      <th>1</th>\n",
       "      <td>1. 청구 기초 및 기본진료</td>\n",
       "      <td>구내염처치, 단순염증 처치</td>\n",
       "      <td>https://tripletclover.com/%ea%b5%ac%eb%82%b4%e...</td>\n",
       "    </tr>\n",
       "    <tr>\n",
       "      <th>2</th>\n",
       "      <td>1. 청구 기초 및 기본진료</td>\n",
       "      <td>기본진료 종류 및 상병</td>\n",
       "      <td>https://tripletclover.com/%ea%b8%b0%eb%b3%b8%e...</td>\n",
       "    </tr>\n",
       "    <tr>\n",
       "      <th>3</th>\n",
       "      <td>1. 청구 기초 및 기본진료</td>\n",
       "      <td>기본진료시 항생제 처방 상병</td>\n",
       "      <td>https://tripletclover.com/%ea%b8%b0%eb%b3%b8-%...</td>\n",
       "    </tr>\n",
       "    <tr>\n",
       "      <th>4</th>\n",
       "      <td>1. 청구 기초 및 기본진료</td>\n",
       "      <td>상세불명 vs 기타 명시된 상병명 차이</td>\n",
       "      <td>https://tripletclover.com/%ec%83%81%ec%84%b8%e...</td>\n",
       "    </tr>\n",
       "    <tr>\n",
       "      <th>5</th>\n",
       "      <td>1. 청구 기초 및 기본진료</td>\n",
       "      <td>전달마취</td>\n",
       "      <td>https://tripletclover.com/%ec%a0%84%eb%8b%ac%e...</td>\n",
       "    </tr>\n",
       "    <tr>\n",
       "      <th>...</th>\n",
       "      <td>...</td>\n",
       "      <td>...</td>\n",
       "      <td>...</td>\n",
       "    </tr>\n",
       "    <tr>\n",
       "      <th>107</th>\n",
       "      <td>8. 턱관절</td>\n",
       "      <td>악관절 탈구 비관혈적 정복술</td>\n",
       "      <td>https://tripletclover.com/%ec%95%85%ea%b4%80%e...</td>\n",
       "    </tr>\n",
       "    <tr>\n",
       "      <th>108</th>\n",
       "      <td>8. 턱관절</td>\n",
       "      <td>악관절고착해소술</td>\n",
       "      <td>https://tripletclover.com/%ec%95%85%ea%b4%80%e...</td>\n",
       "    </tr>\n",
       "    <tr>\n",
       "      <th>109</th>\n",
       "      <td>8. 턱관절</td>\n",
       "      <td>악관절자극요법 (단순, 전기, 복합)</td>\n",
       "      <td>https://tripletclover.com/%ec%95%85%ea%b4%80%e...</td>\n",
       "    </tr>\n",
       "    <tr>\n",
       "      <th>110</th>\n",
       "      <td>8. 턱관절</td>\n",
       "      <td>측두하악장애 분석검사</td>\n",
       "      <td>https://tripletclover.com/%ec%b8%a1%eb%91%90%e...</td>\n",
       "    </tr>\n",
       "    <tr>\n",
       "      <th>111</th>\n",
       "      <td>8. 턱관절</td>\n",
       "      <td>파노라마 촬영 특수</td>\n",
       "      <td>https://tripletclover.com/%ed%8c%8c%eb%85%b8%e...</td>\n",
       "    </tr>\n",
       "  </tbody>\n",
       "</table>\n",
       "<p>111 rows × 3 columns</p>\n",
       "</div>"
      ],
      "text/plain": [
       "      보험 청구 Category         세부 청구 항목 (키워드)  \\\n",
       "1    1. 청구 기초 및 기본진료         구내염처치, 단순염증 처치   \n",
       "2    1. 청구 기초 및 기본진료           기본진료 종류 및 상병   \n",
       "3    1. 청구 기초 및 기본진료        기본진료시 항생제 처방 상병   \n",
       "4    1. 청구 기초 및 기본진료  상세불명 vs 기타 명시된 상병명 차이   \n",
       "5    1. 청구 기초 및 기본진료                   전달마취   \n",
       "..               ...                    ...   \n",
       "107           8. 턱관절        악관절 탈구 비관혈적 정복술   \n",
       "108           8. 턱관절               악관절고착해소술   \n",
       "109           8. 턱관절   악관절자극요법 (단순, 전기, 복합)   \n",
       "110           8. 턱관절            측두하악장애 분석검사   \n",
       "111           8. 턱관절             파노라마 촬영 특수   \n",
       "\n",
       "                             \bURL  (tripletclover.com)  \n",
       "1    https://tripletclover.com/%ea%b5%ac%eb%82%b4%e...  \n",
       "2    https://tripletclover.com/%ea%b8%b0%eb%b3%b8%e...  \n",
       "3    https://tripletclover.com/%ea%b8%b0%eb%b3%b8-%...  \n",
       "4    https://tripletclover.com/%ec%83%81%ec%84%b8%e...  \n",
       "5    https://tripletclover.com/%ec%a0%84%eb%8b%ac%e...  \n",
       "..                                                 ...  \n",
       "107  https://tripletclover.com/%ec%95%85%ea%b4%80%e...  \n",
       "108  https://tripletclover.com/%ec%95%85%ea%b4%80%e...  \n",
       "109  https://tripletclover.com/%ec%95%85%ea%b4%80%e...  \n",
       "110  https://tripletclover.com/%ec%b8%a1%eb%91%90%e...  \n",
       "111  https://tripletclover.com/%ed%8c%8c%eb%85%b8%e...  \n",
       "\n",
       "[111 rows x 3 columns]"
      ]
     },
     "execution_count": 4,
     "metadata": {},
     "output_type": "execute_result"
    }
   ],
   "source": [
    "df_action"
   ]
  },
  {
   "cell_type": "code",
   "execution_count": 24,
   "metadata": {},
   "outputs": [
    {
     "data": {
      "text/plain": [
       "'https://tripletclover.com/%ea%b8%b0%eb%b3%b8-%ec%a7%84%ec%b0%b0-%ec%b2%98%eb%b0%a9%ec%a0%84-%eb%b0%9c%ea%b8%89-%ed%95%ad%ec%83%9d%ec%a0%9c-%ec%b2%98%eb%b0%a9-%ea%b0%80%eb%8a%a5%ed%95%9c-%ec%a6%9d%ec%83%81-%eb%b0%8f-%ec%83%81/'"
      ]
     },
     "execution_count": 24,
     "metadata": {},
     "output_type": "execute_result"
    }
   ],
   "source": [
    "df_action.iloc[2,2]"
   ]
  },
  {
   "cell_type": "code",
   "execution_count": 30,
   "metadata": {},
   "outputs": [
    {
     "data": {
      "text/plain": [
       "1                 치아 발육 및 맹출 장애\n",
       "24                    매몰치 및 매복치\n",
       "26                            \u001b\n",
       "37                        치아 우식\n",
       "44               마모 등 치아 경조직 질환\n",
       "52                      치수 및 근단\n",
       "74                   치은염 및 치주질환\n",
       "100        잇몸 및 무치성 치조융기의 기타 장애\n",
       "111          치아얼굴이상 [ 부정교합 포함 ]\n",
       "124            치아 및 지지구조의 기타 장애\n",
       "130                    턱의 기타 질환\n",
       "135                      침샘의 질환\n",
       "140                 구내염 및 관련 병변\n",
       "144            입술 및 구강점막의 기타 질환\n",
       "149                  머리의 표재성 손상\n",
       "151                    머리의 열린상처\n",
       "163               두개골 및 안면골의 골절\n",
       "173    머리의 관절 및 인대의 탈구, 염좌 및 긴장\n",
       "182                     뇌신경의 손상\n",
       "187                 헤르페스바이러스 감염\n",
       "189                입 인두의 양성 신생물\n",
       "191                  위염 및 십이지장염\n",
       "195                  혀입인두의 선천기형\n",
       "Name: \b불완전 상병명, dtype: object"
      ]
     },
     "execution_count": 30,
     "metadata": {},
     "output_type": "execute_result"
    }
   ],
   "source": [
    "df_code['\\x08불완전 상병명'].replace(\"\", None).dropna()"
   ]
  }
 ],
 "metadata": {
  "kernelspec": {
   "display_name": "langchain",
   "language": "python",
   "name": "python3"
  },
  "language_info": {
   "codemirror_mode": {
    "name": "ipython",
    "version": 3
   },
   "file_extension": ".py",
   "mimetype": "text/x-python",
   "name": "python",
   "nbconvert_exporter": "python",
   "pygments_lexer": "ipython3",
   "version": "3.8.20"
  }
 },
 "nbformat": 4,
 "nbformat_minor": 2
}
