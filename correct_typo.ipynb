{
 "cells": [
  {
   "cell_type": "code",
   "execution_count": 9,
   "metadata": {},
   "outputs": [
    {
     "name": "stdout",
     "output_type": "stream",
     "text": [
      "교정된 단어: 감기\n",
      "제안 목록: ['감기']\n"
     ]
    }
   ],
   "source": [
    "import difflib\n",
    "\n",
    "def correct_typo(input_word, dictionary):\n",
    "    \"\"\"\n",
    "    오탈자를 교정하고 제안하는 함수.\n",
    "    \n",
    "    :param input_word: 사용자가 입력한 단어\n",
    "    :param dictionary: 올바른 단어 목록 (사전)\n",
    "    :return: 교정된 단어와 제안 목록\n",
    "    \"\"\"\n",
    "    # 가장 유사한 단어 찾기\n",
    "    closest_matches = difflib.get_close_matches(input_word, dictionary, n=3, cutoff=0.5)\n",
    "    \n",
    "    if closest_matches:\n",
    "        corrected_word = closest_matches[0]  # 가장 유사한 단어 선택\n",
    "        suggestions = closest_matches  # 제안 목록\n",
    "    else:\n",
    "        corrected_word = input_word  # 교정할 단어 없음\n",
    "        suggestions = []\n",
    "    \n",
    "    return corrected_word, suggestions\n",
    "\n",
    "# 예시 사용법\n",
    "dictionary = ['구내염', '감기', '기관지염', '천식', '폐렴']  # 사전 목록\n",
    "input_word = '걈기'  # 사용자 입력\n",
    "\n",
    "corrected, suggestions = correct_typo(input_word, dictionary)\n",
    "print(f\"교정된 단어: {corrected}\")\n",
    "print(f\"제안 목록: {suggestions}\")\n"
   ]
  }
 ],
 "metadata": {
  "kernelspec": {
   "display_name": "Python 3",
   "language": "python",
   "name": "python3"
  },
  "language_info": {
   "codemirror_mode": {
    "name": "ipython",
    "version": 3
   },
   "file_extension": ".py",
   "mimetype": "text/x-python",
   "name": "python",
   "nbconvert_exporter": "python",
   "pygments_lexer": "ipython3",
   "version": "3.9.19"
  }
 },
 "nbformat": 4,
 "nbformat_minor": 2
}
