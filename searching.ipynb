{
 "cells": [
  {
   "cell_type": "code",
   "execution_count": 93,
   "metadata": {},
   "outputs": [
    {
     "name": "stdout",
     "output_type": "stream",
     "text": [
      "['가역적 치수염', '전치 부위 과잉치', '소구치 부위 과잉치', '대구치 부위 과잉치', '상세불명의 과잉치', '과잉 매복치', '비가역적 치수염']\n"
     ]
    }
   ],
   "source": [
    "from rapidfuzz import process, fuzz\n",
    "import torch\n",
    "from transformers import ElectraTokenizer, ElectraModel\n",
    "from sklearn.metrics.pairwise import cosine_similarity\n",
    "import numpy as np\n",
    "\n",
    "# koELECTRA 모델과 토크나이저 불러오기\n",
    "tokenizer = ElectraTokenizer.from_pretrained(\"monologg/koelectra-base-v3-discriminator\")\n",
    "model = ElectraModel.from_pretrained(\"monologg/koelectra-base-v3-discriminator\")\n",
    "\n",
    "\n",
    "# 문장을 임베딩으로 변환하는 함수\n",
    "def get_embeddings(texts):\n",
    "    inputs = tokenizer(texts, return_tensors=\"pt\", padding=True, truncation=True)\n",
    "    with torch.no_grad():\n",
    "        outputs = model(**inputs)\n",
    "    return outputs.last_hidden_state.mean(dim=1)  # 문장의 평균 임베딩 사용\n",
    "\n",
    "\n",
    "# 상병명 데이터 리스트\n",
    "disease_data = [\n",
    "    \"부분무치증\",\n",
    "    \"완전무치증\",\n",
    "    \"전치 부위 과잉치\",\n",
    "    \"소구치 부위 과잉치\",\n",
    "    \"대구치 부위 과잉치\",\n",
    "    \"상세불명의 과잉치\",\n",
    "    \"왜소치\",\n",
    "    \"유착\",\n",
    "    \"치아의 크기와 형태의 기타 및 상세불명의 이상\",\n",
    "    \"법랑질형성저하 Enamel hypoplasia\",\n",
    "    \"절렬 (치아 만곡)\",\n",
    "    \"불완전 에나멜 형성증 Amelogenesis imperfecta\",\n",
    "    \"불완전 상아질 형성증 Dentinogenesis imperfecta\",\n",
    "    \"잔존 [지속성][탈락성] 유치\",\n",
    "    \"치아맹출의 기타 명시된 장애\",\n",
    "    \"치아맹출의 상세불명 장애\",\n",
    "    \"상악 절치의 매복\",\n",
    "    \"하악 절치의 매복\",\n",
    "    \"상악 견치의 매복\",\n",
    "    \"하악 견치의 매복\",\n",
    "    \"상악 소구치의 매복\",\n",
    "    \"하악 소구치의 매복\",\n",
    "    \"상악 제3대구치의 매복\",\n",
    "    \"하악 제3대구치의 매복\",\n",
    "    \"과잉 매복치\",\n",
    "    \"상세불명의 매복치\",\n",
    "    \"가역적 치수염\",\n",
    "    \"비가역적 치수염\",\n",
    "    \"상세불명의 치수염\",\n",
    "    \"치아뿌리낭 (근단 및 외측)\",\n",
    "    \"치아뿌리낭 (잔류성)\",\n",
    "    \"치아뿌리낭 (염증성)\",\n",
    "    \"치아뿌리낭 (상세불명)\",\n",
    "    \"급성 연쇄알균 치은 구내염\",\n",
    "    \"기타 명시된 급성 치은염\",\n",
    "    \"상세불명의 급성 치은염\",\n",
    "    \"만성 단순 변연부 치은염\",\n",
    "    \"만성 증식성 치은염\",\n",
    "    \"만성 궤양성 치은염\",\n",
    "    \"만성 박리성 치은염\",\n",
    "    \"기타 명시된 만성 치은염\",\n",
    "    \"상세불명의 만성 치은염\",\n",
    "    \"동이 없는 잇몸 기원의 치주농양\",\n",
    "    \"동이 있는 잇몸 기원의 치주농양\",\n",
    "    \"급성 치관주위염\",\n",
    "    \"기타 명시된 급성 치주염\",\n",
    "    \"상세불명의 급성 치주염\",\n",
    "    \"만성 단순 치주염\",\n",
    "    \"만성 복합 치주염\",\n",
    "    \"만성 치관주위염\",\n",
    "    \"기타 명시된 만성 치주염\",\n",
    "    \"상세불명의 만성 치주염\",\n",
    "    \"국소적 치은퇴축\",\n",
    "    \"전반적 치은퇴축\",\n",
    "    \"치은섬유종증 (gingival fibromatosis)\",\n",
    "    \"기타 명시된 치은비대\",\n",
    "    \"상세불명의 치은비대\",\n",
    "    \"외상성 교합에 의한 (치조융기 병변)\",\n",
    "    \"자극성 증식증 [의치성 증식증]\",\n",
    "    \"위치이상을 동반한 매몰치 또는 매복치\",\n",
    "    \"턱관절내장증\",\n",
    "    \"턱관절잡음\",\n",
    "    \"턱관절의 재발성 탈구 및 아탈구\",\n",
    "    \"달리 분류되지 않은 턱관절의 통증\",\n",
    "    \"달리 분류되지 않은 턱관절의 경직\",\n",
    "    \"턱관절의 퇴행성 관절병\",\n",
    "    \"저작근장애\",\n",
    "    \"기타 명시된 턱관절장애\",\n",
    "    \"상세불명의 턱관절장애\",\n",
    "    \"불규칙치조돌기\",\n",
    "    \"치아 및 지지구조의 기타 명시된 장애\",\n",
    "    \"급성 타액선염\",\n",
    "    \"만성 타액선염\",\n",
    "    \"볼의 열린상처\",\n",
    "    \"상악부의 열린상처\",\n",
    "    \"하악부의 열린상처\",\n",
    "    \"볼 및 측두하악부 영역의 기타 및 여러 부위의 열린상처\",\n",
    "    \"입술의 열린 상처\",\n",
    "    \"볼점막의 열린 상처\",\n",
    "    \"잇몸(치조돌기)의 열린 상처\",\n",
    "    \"혀와 입바닥의 열린 상처\",\n",
    "    \"구개의 열린 상처\",\n",
    "    \"법랑질만의 파절\",\n",
    "    \"치수침범이 없는 치관의 파절\",\n",
    "    \"치수침범이 있는 치관의 파절\",\n",
    "    \"치근의 파절\",\n",
    "    \"치근을 포함한 치관의 파절\",\n",
    "    \"치아의 다발성 파절\",\n",
    "    \"치아의 상세불명 파절\",\n",
    "    \"치아의 아탈구 (측방 탈구)\",\n",
    "    \"치아의 함입 또는 탈출\",\n",
    "    \"완전 탈구\",\n",
    "    \"치아의 박리 (완전탈구)\",\n",
    "    \"기타 및 상세불명의 치아 탈구\",\n",
    "]\n",
    "\n",
    "# 검색어\n",
    "search_query = \"가잉\"\n",
    "\n",
    "\n",
    "# 부분 문자열 및 유사도 기반 검색\n",
    "def search_with_partial_and_correction(data, query, threshold=50):\n",
    "    # 1. 부분 일치를 먼저 확인하고, 유사도가 높은 상병명 선택\n",
    "    matches = process.extract(query, data, scorer=fuzz.partial_ratio, limit=20)\n",
    "    return [match[0] for match in matches if match[1] >= threshold]\n",
    "\n",
    "\n",
    "# 1차적으로 부분 일치 및 오타 보정하여 가장 가까운 10개 결과 선택\n",
    "corrected_candidates = search_with_partial_and_correction(disease_data, search_query)\n",
    "\n",
    "# # koELECTRA 임베딩을 사용하여 추가 유사도 측정\n",
    "# disease_embeddings = get_embeddings(corrected_candidates)\n",
    "# query_embedding = get_embeddings([search_query])\n",
    "\n",
    "# # 코사인 유사도 계산\n",
    "# similarities = cosine_similarity(query_embedding, disease_embeddings)\n",
    "\n",
    "# # 유사도가 높은 항목 찾기 (유사도 임계값 조정 가능)\n",
    "# cosine_threshold = 0.65\n",
    "# matched_indices = np.where(similarities[0] > cosine_threshold)[0]\n",
    "# matched_diseases = [corrected_candidates[i] for i in matched_indices]\n",
    "\n",
    "# 결과 출력\n",
    "print(corrected_candidates)\n",
    "# print(\"검색어:\", search_query)\n",
    "# print(\"부분 일치 + 오타 보정 + koELECTRA 유사도 기반 검색 결과:\", matched_diseases)"
   ]
  },
  {
   "cell_type": "code",
   "execution_count": 20,
   "metadata": {},
   "outputs": [
    {
     "name": "stdout",
     "output_type": "stream",
     "text": [
      "Requirement already satisfied: py-hanspell in d:\\workspace\\chunjae_bigdata_9th\\9.4~9.23\\.conda\\lib\\site-packages (1.1)\n",
      "Requirement already satisfied: requests in d:\\workspace\\chunjae_bigdata_9th\\9.4~9.23\\.conda\\lib\\site-packages (from py-hanspell) (2.32.3)\n",
      "Requirement already satisfied: charset-normalizer<4,>=2 in d:\\workspace\\chunjae_bigdata_9th\\9.4~9.23\\.conda\\lib\\site-packages (from requests->py-hanspell) (3.3.2)\n",
      "Requirement already satisfied: idna<4,>=2.5 in d:\\workspace\\chunjae_bigdata_9th\\9.4~9.23\\.conda\\lib\\site-packages (from requests->py-hanspell) (3.8)\n",
      "Requirement already satisfied: urllib3<3,>=1.21.1 in d:\\workspace\\chunjae_bigdata_9th\\9.4~9.23\\.conda\\lib\\site-packages (from requests->py-hanspell) (2.2.2)\n",
      "Requirement already satisfied: certifi>=2017.4.17 in d:\\workspace\\chunjae_bigdata_9th\\9.4~9.23\\.conda\\lib\\site-packages (from requests->py-hanspell) (2024.8.30)\n"
     ]
    }
   ],
   "source": [
    "!pip install py-hanspell"
   ]
  },
  {
   "cell_type": "code",
   "execution_count": 26,
   "metadata": {},
   "outputs": [
    {
     "name": "stdout",
     "output_type": "stream",
     "text": [
      "Requirement already satisfied: requests in d:\\workspace\\chunjae_bigdata_9th\\9.4~9.23\\.conda\\lib\\site-packages (2.32.3)\n",
      "Requirement already satisfied: charset-normalizer<4,>=2 in d:\\workspace\\chunjae_bigdata_9th\\9.4~9.23\\.conda\\lib\\site-packages (from requests) (3.3.2)\n",
      "Requirement already satisfied: idna<4,>=2.5 in d:\\workspace\\chunjae_bigdata_9th\\9.4~9.23\\.conda\\lib\\site-packages (from requests) (3.8)\n",
      "Requirement already satisfied: urllib3<3,>=1.21.1 in d:\\workspace\\chunjae_bigdata_9th\\9.4~9.23\\.conda\\lib\\site-packages (from requests) (2.2.2)\n",
      "Requirement already satisfied: certifi>=2017.4.17 in d:\\workspace\\chunjae_bigdata_9th\\9.4~9.23\\.conda\\lib\\site-packages (from requests) (2024.8.30)\n"
     ]
    }
   ],
   "source": [
    "!pip install requests"
   ]
  },
  {
   "cell_type": "code",
   "execution_count": 28,
   "metadata": {},
   "outputs": [
    {
     "ename": "KeyError",
     "evalue": "'result'",
     "output_type": "error",
     "traceback": [
      "\u001b[1;31m---------------------------------------------------------------------------\u001b[0m",
      "\u001b[1;31mKeyError\u001b[0m                                  Traceback (most recent call last)",
      "Cell \u001b[1;32mIn[28], line 7\u001b[0m\n\u001b[0;32m      4\u001b[0m text \u001b[38;5;241m=\u001b[39m \u001b[38;5;124m'\u001b[39m\u001b[38;5;124m안녕 하세요. 저는 한국인 입니다. 이문장은 한글로 작성됬습니다.\u001b[39m\u001b[38;5;124m'\u001b[39m\n\u001b[0;32m      6\u001b[0m \u001b[38;5;66;03m# 맞춤법 검사\u001b[39;00m\n\u001b[1;32m----> 7\u001b[0m result \u001b[38;5;241m=\u001b[39m \u001b[43mspell_checker\u001b[49m\u001b[38;5;241;43m.\u001b[39;49m\u001b[43mcheck\u001b[49m\u001b[43m(\u001b[49m\u001b[43mtext\u001b[49m\u001b[43m)\u001b[49m\n\u001b[0;32m      9\u001b[0m \u001b[38;5;66;03m# dict 형태로 출력\u001b[39;00m\n\u001b[0;32m     10\u001b[0m result_dict \u001b[38;5;241m=\u001b[39m result\u001b[38;5;241m.\u001b[39mas_dict()\n",
      "File \u001b[1;32md:\\workspace\\Chunjae_Bigdata_9th\\9.4~9.23\\.conda\\lib\\site-packages\\hanspell\\spell_checker.py:62\u001b[0m, in \u001b[0;36mcheck\u001b[1;34m(text)\u001b[0m\n\u001b[0;32m     59\u001b[0m passed_time \u001b[38;5;241m=\u001b[39m time\u001b[38;5;241m.\u001b[39mtime() \u001b[38;5;241m-\u001b[39m start_time\n\u001b[0;32m     61\u001b[0m data \u001b[38;5;241m=\u001b[39m json\u001b[38;5;241m.\u001b[39mloads(r\u001b[38;5;241m.\u001b[39mtext)\n\u001b[1;32m---> 62\u001b[0m html \u001b[38;5;241m=\u001b[39m \u001b[43mdata\u001b[49m\u001b[43m[\u001b[49m\u001b[38;5;124;43m'\u001b[39;49m\u001b[38;5;124;43mmessage\u001b[39;49m\u001b[38;5;124;43m'\u001b[39;49m\u001b[43m]\u001b[49m\u001b[43m[\u001b[49m\u001b[38;5;124;43m'\u001b[39;49m\u001b[38;5;124;43mresult\u001b[39;49m\u001b[38;5;124;43m'\u001b[39;49m\u001b[43m]\u001b[49m[\u001b[38;5;124m'\u001b[39m\u001b[38;5;124mhtml\u001b[39m\u001b[38;5;124m'\u001b[39m]\n\u001b[0;32m     63\u001b[0m result \u001b[38;5;241m=\u001b[39m {\n\u001b[0;32m     64\u001b[0m     \u001b[38;5;124m'\u001b[39m\u001b[38;5;124mresult\u001b[39m\u001b[38;5;124m'\u001b[39m: \u001b[38;5;28;01mTrue\u001b[39;00m,\n\u001b[0;32m     65\u001b[0m     \u001b[38;5;124m'\u001b[39m\u001b[38;5;124moriginal\u001b[39m\u001b[38;5;124m'\u001b[39m: text,\n\u001b[1;32m   (...)\u001b[0m\n\u001b[0;32m     69\u001b[0m     \u001b[38;5;124m'\u001b[39m\u001b[38;5;124mwords\u001b[39m\u001b[38;5;124m'\u001b[39m: OrderedDict(),\n\u001b[0;32m     70\u001b[0m }\n\u001b[0;32m     72\u001b[0m \u001b[38;5;66;03m# 띄어쓰기로 구분하기 위해 태그는 일단 보기 쉽게 바꿔둠.\u001b[39;00m\n\u001b[0;32m     73\u001b[0m \u001b[38;5;66;03m# ElementTree의 iter()를 써서 더 좋게 할 수 있는 방법이 있지만\u001b[39;00m\n\u001b[0;32m     74\u001b[0m \u001b[38;5;66;03m# 이 짧은 코드에 굳이 그렇게 할 필요성이 없으므로 일단 문자열을 치환하는 방법으로 작성.\u001b[39;00m\n",
      "\u001b[1;31mKeyError\u001b[0m: 'result'"
     ]
    }
   ],
   "source": [
    "from hanspell import spell_checker\n",
    "\n",
    "# 맞춤법 검사할 텍스트\n",
    "text = \"안녕 하세요. 저는 한국인 입니다. 이문장은 한글로 작성됬습니다.\"\n",
    "\n",
    "# 맞춤법 검사\n",
    "result = spell_checker.check(text)\n",
    "\n",
    "# dict 형태로 출력\n",
    "result_dict = result.as_dict()\n",
    "\n",
    "# 키를 정확히 확인하고 결과 출력\n",
    "print(\"원문:\", result_dict.get(\"original\", \"N/A\"))\n",
    "print(\"검사 결과:\", result_dict.get(\"checked\", \"N/A\"))\n",
    "print(\"오류 수:\", result_dict.get(\"errors\", \"N/A\"))\n",
    "print(\"오류 세부 정보:\", result_dict.get(\"words\", \"N/A\"))"
   ]
  }
 ],
 "metadata": {
  "kernelspec": {
   "display_name": "Python 3",
   "language": "python",
   "name": "python3"
  },
  "language_info": {
   "codemirror_mode": {
    "name": "ipython",
    "version": 3
   },
   "file_extension": ".py",
   "mimetype": "text/x-python",
   "name": "python",
   "nbconvert_exporter": "python",
   "pygments_lexer": "ipython3",
   "version": "3.8.19"
  }
 },
 "nbformat": 4,
 "nbformat_minor": 2
}
